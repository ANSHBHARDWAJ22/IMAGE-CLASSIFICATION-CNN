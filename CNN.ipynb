{
  "cells": [
    {
      "cell_type": "markdown",
      "metadata": {
        "id": "view-in-github",
        "colab_type": "text"
      },
      "source": [
        "<a href=\"https://colab.research.google.com/github/ANSHBHARDWAJ22/IMAGE-CLASSIFICATION-CNN/blob/main/CNN.ipynb\" target=\"_parent\"><img src=\"https://colab.research.google.com/assets/colab-badge.svg\" alt=\"Open In Colab\"/></a>"
      ]
    },
    {
      "cell_type": "code",
      "execution_count": null,
      "metadata": {
        "id": "HUte56VIa_r4"
      },
      "outputs": [],
      "source": [
        "import numpy as np\n",
        "from tensorflow.keras.models import Sequential\n",
        "from tensorflow.keras.layers import Conv2D,MaxPooling2D,Dense,Flatten\n",
        "import random\n",
        "import matplotlib.pyplot as plt"
      ],
      "id": "HUte56VIa_r4"
    },
    {
      "cell_type": "code",
      "execution_count": null,
      "id": "6eb50536",
      "metadata": {
        "id": "6eb50536"
      },
      "outputs": [],
      "source": [
        "x_train=np.loadtxt('input.csv',delimiter=',')\n",
        "y_train=np.loadtxt('labels.csv',delimiter=',')\n",
        "\n",
        "x_test=np.loadtxt('input_test.csv',delimiter=',')\n",
        "y_test=np.loadtxt('labels_test.csv',delimiter=',')\n",
        "\n",
        "# np.loadtxt is a function from the NumPy library that loads data from a text file (in this case, a CSV file)\n",
        "#  and returns it as a NumPy array.\n",
        "\n",
        "# delimiter=',' specifies that the data in the CSV file is separated by commas."
      ]
    },
    {
      "cell_type": "code",
      "execution_count": null,
      "id": "a47f2aaf",
      "metadata": {
        "id": "a47f2aaf"
      },
      "outputs": [],
      "source": [
        "# reshape the data\n",
        "x_train=x_train.reshape(len(x_train),100,100,3)\n",
        "y_train=y_train.reshape(len(y_train),1)\n",
        "\n",
        "x_test=x_test.reshape(len(x_test),100,100,3)\n",
        "y_test=y_test.reshape(len(y_test),1)\n"
      ]
    },
    {
      "cell_type": "code",
      "execution_count": null,
      "id": "89ba19a7",
      "metadata": {
        "id": "89ba19a7"
      },
      "outputs": [],
      "source": [
        "#resize the x_train and x_test set  for better calculations\n",
        "x_train=x_train/255\n",
        "x_test=x_test/255"
      ]
    },
    {
      "cell_type": "code",
      "execution_count": null,
      "id": "a454055b",
      "metadata": {
        "id": "a454055b",
        "outputId": "b83bd398-6e4c-48cc-ed01-6d8d22010307"
      },
      "outputs": [
        {
          "data": {
            "text/plain": [
              "array([[[[0.51372549, 0.50196078, 0.52941176],\n",
              "         [0.62745098, 0.61568627, 0.64313725],\n",
              "         [0.77647059, 0.75294118, 0.8       ],\n",
              "         ...,\n",
              "         [0.98039216, 0.97647059, 0.96862745],\n",
              "         [1.        , 1.        , 0.99215686],\n",
              "         [0.98039216, 0.97647059, 0.96078431]],\n",
              "\n",
              "        [[0.54901961, 0.5372549 , 0.56470588],\n",
              "         [0.49803922, 0.48627451, 0.51372549],\n",
              "         [0.47058824, 0.44705882, 0.48627451],\n",
              "         ...,\n",
              "         [0.98431373, 0.99215686, 0.98823529],\n",
              "         [0.99607843, 1.        , 0.99215686],\n",
              "         [0.99607843, 1.        , 0.98431373]],\n",
              "\n",
              "        [[0.8       , 0.79215686, 0.81176471],\n",
              "         [0.73333333, 0.7254902 , 0.74509804],\n",
              "         [0.57647059, 0.55686275, 0.58039216],\n",
              "         ...,\n",
              "         [0.97647059, 1.        , 1.        ],\n",
              "         [0.93333333, 0.96862745, 0.94901961],\n",
              "         [0.90980392, 0.94509804, 0.9254902 ]],\n",
              "\n",
              "        ...,\n",
              "\n",
              "        [[0.68235294, 0.71372549, 0.76470588],\n",
              "         [0.6745098 , 0.70588235, 0.75686275],\n",
              "         [0.69803922, 0.72941176, 0.77254902],\n",
              "         ...,\n",
              "         [0.34117647, 0.44705882, 0.38039216],\n",
              "         [0.29411765, 0.38823529, 0.3254902 ],\n",
              "         [0.31372549, 0.41176471, 0.3372549 ]],\n",
              "\n",
              "        [[0.65098039, 0.67843137, 0.74117647],\n",
              "         [0.64313725, 0.6745098 , 0.7254902 ],\n",
              "         [0.6745098 , 0.70588235, 0.75686275],\n",
              "         ...,\n",
              "         [0.30588235, 0.41568627, 0.32941176],\n",
              "         [0.28235294, 0.38039216, 0.29803922],\n",
              "         [0.30196078, 0.4       , 0.31764706]],\n",
              "\n",
              "        [[0.67843137, 0.70588235, 0.76862745],\n",
              "         [0.6745098 , 0.70196078, 0.76470588],\n",
              "         [0.68235294, 0.71372549, 0.76470588],\n",
              "         ...,\n",
              "         [0.24705882, 0.35686275, 0.27058824],\n",
              "         [0.24313725, 0.34117647, 0.25490196],\n",
              "         [0.27843137, 0.37647059, 0.29019608]]],\n",
              "\n",
              "\n",
              "       [[[0.31372549, 0.36078431, 0.34509804],\n",
              "         [0.3254902 , 0.37647059, 0.34901961],\n",
              "         [0.29803922, 0.36078431, 0.32156863],\n",
              "         ...,\n",
              "         [0.05490196, 0.1372549 , 0.07843137],\n",
              "         [0.05490196, 0.1372549 , 0.07843137],\n",
              "         [0.07843137, 0.16078431, 0.10196078]],\n",
              "\n",
              "        [[0.30588235, 0.34117647, 0.32941176],\n",
              "         [0.35294118, 0.39607843, 0.37254902],\n",
              "         [0.30980392, 0.35294118, 0.32156863],\n",
              "         ...,\n",
              "         [0.14509804, 0.21176471, 0.14901961],\n",
              "         [0.12156863, 0.18823529, 0.1254902 ],\n",
              "         [0.05098039, 0.11764706, 0.05490196]],\n",
              "\n",
              "        [[0.25098039, 0.25882353, 0.24705882],\n",
              "         [0.31372549, 0.33333333, 0.30980392],\n",
              "         [0.36470588, 0.39215686, 0.36078431],\n",
              "         ...,\n",
              "         [0.15686275, 0.18039216, 0.1254902 ],\n",
              "         [0.15686275, 0.18823529, 0.12941176],\n",
              "         [0.05490196, 0.08627451, 0.02745098]],\n",
              "\n",
              "        ...,\n",
              "\n",
              "        [[0.39215686, 0.42745098, 0.36078431],\n",
              "         [0.36470588, 0.41568627, 0.3372549 ],\n",
              "         [0.35294118, 0.43137255, 0.33333333],\n",
              "         ...,\n",
              "         [0.6745098 , 0.65490196, 0.58039216],\n",
              "         [0.63137255, 0.61176471, 0.5372549 ],\n",
              "         [0.56862745, 0.54901961, 0.4745098 ]],\n",
              "\n",
              "        [[0.38823529, 0.43137255, 0.36470588],\n",
              "         [0.37647059, 0.42745098, 0.34901961],\n",
              "         [0.36078431, 0.43921569, 0.34117647],\n",
              "         ...,\n",
              "         [0.58823529, 0.56862745, 0.49411765],\n",
              "         [0.52156863, 0.50196078, 0.42352941],\n",
              "         [0.57254902, 0.55294118, 0.4745098 ]],\n",
              "\n",
              "        [[0.41568627, 0.45882353, 0.39215686],\n",
              "         [0.4       , 0.45882353, 0.37647059],\n",
              "         [0.36862745, 0.44705882, 0.34901961],\n",
              "         ...,\n",
              "         [0.52156863, 0.50196078, 0.42745098],\n",
              "         [0.46666667, 0.44705882, 0.36862745],\n",
              "         [0.48627451, 0.46666667, 0.38823529]]],\n",
              "\n",
              "\n",
              "       [[[0.58431373, 0.67843137, 0.59215686],\n",
              "         [0.51372549, 0.6       , 0.51764706],\n",
              "         [0.61176471, 0.67843137, 0.60784314],\n",
              "         ...,\n",
              "         [0.71372549, 0.79607843, 0.6745098 ],\n",
              "         [0.74901961, 0.83137255, 0.70980392],\n",
              "         [0.72941176, 0.81176471, 0.69019608]],\n",
              "\n",
              "        [[0.36862745, 0.45490196, 0.37254902],\n",
              "         [0.46666667, 0.54117647, 0.4627451 ],\n",
              "         [0.57647059, 0.63529412, 0.56078431],\n",
              "         ...,\n",
              "         [0.71372549, 0.79215686, 0.68627451],\n",
              "         [0.76862745, 0.84705882, 0.74117647],\n",
              "         [0.77647059, 0.85490196, 0.74901961]],\n",
              "\n",
              "        [[0.23137255, 0.29019608, 0.20784314],\n",
              "         [0.48235294, 0.54117647, 0.45882353],\n",
              "         [0.67058824, 0.71764706, 0.63921569],\n",
              "         ...,\n",
              "         [0.70588235, 0.78823529, 0.71372549],\n",
              "         [0.76078431, 0.84313725, 0.76862745],\n",
              "         [0.78823529, 0.87058824, 0.79607843]],\n",
              "\n",
              "        ...,\n",
              "\n",
              "        [[0.43137255, 0.48235294, 0.55686275],\n",
              "         [0.4       , 0.45098039, 0.5254902 ],\n",
              "         [0.2627451 , 0.31372549, 0.38823529],\n",
              "         ...,\n",
              "         [0.11764706, 0.11764706, 0.15686275],\n",
              "         [0.10980392, 0.10980392, 0.14901961],\n",
              "         [0.11372549, 0.11372549, 0.15294118]],\n",
              "\n",
              "        [[0.42352941, 0.48235294, 0.55686275],\n",
              "         [0.4745098 , 0.53333333, 0.60784314],\n",
              "         [0.39607843, 0.45490196, 0.52941176],\n",
              "         ...,\n",
              "         [0.15686275, 0.15686275, 0.19607843],\n",
              "         [0.16078431, 0.16078431, 0.2       ],\n",
              "         [0.17254902, 0.17254902, 0.21176471]],\n",
              "\n",
              "        [[0.42352941, 0.48235294, 0.55686275],\n",
              "         [0.34117647, 0.4       , 0.4745098 ],\n",
              "         [0.37254902, 0.43137255, 0.50588235],\n",
              "         ...,\n",
              "         [0.18823529, 0.18823529, 0.22745098],\n",
              "         [0.2       , 0.2       , 0.23921569],\n",
              "         [0.21960784, 0.21960784, 0.25882353]]],\n",
              "\n",
              "\n",
              "       ...,\n",
              "\n",
              "\n",
              "       [[[0.90588235, 0.88627451, 0.90196078],\n",
              "         [0.9372549 , 0.92156863, 0.9254902 ],\n",
              "         [0.95294118, 0.9372549 , 0.93333333],\n",
              "         ...,\n",
              "         [0.92941176, 0.89411765, 0.83529412],\n",
              "         [0.76470588, 0.7254902 , 0.67843137],\n",
              "         [0.83921569, 0.8       , 0.75294118]],\n",
              "\n",
              "        [[0.95686275, 0.93333333, 0.94901961],\n",
              "         [0.8627451 , 0.84705882, 0.85098039],\n",
              "         [0.97254902, 0.95294118, 0.94117647],\n",
              "         ...,\n",
              "         [0.91764706, 0.87058824, 0.80784314],\n",
              "         [0.72156863, 0.6745098 , 0.61960784],\n",
              "         [0.76078431, 0.71372549, 0.65882353]],\n",
              "\n",
              "        [[0.91372549, 0.87843137, 0.89019608],\n",
              "         [0.85098039, 0.82745098, 0.82745098],\n",
              "         [0.9372549 , 0.90588235, 0.89411765],\n",
              "         ...,\n",
              "         [0.94509804, 0.87843137, 0.81568627],\n",
              "         [0.79607843, 0.72941176, 0.66666667],\n",
              "         [0.82352941, 0.75686275, 0.69411765]],\n",
              "\n",
              "        ...,\n",
              "\n",
              "        [[0.03137255, 0.00784314, 0.00784314],\n",
              "         [0.03921569, 0.02352941, 0.01960784],\n",
              "         [0.05098039, 0.03529412, 0.02352941],\n",
              "         ...,\n",
              "         [0.29803922, 0.30980392, 0.3372549 ],\n",
              "         [0.27058824, 0.28235294, 0.30980392],\n",
              "         [0.25882353, 0.27058824, 0.29803922]],\n",
              "\n",
              "        [[0.18823529, 0.17254902, 0.16862745],\n",
              "         [0.19215686, 0.18823529, 0.18039216],\n",
              "         [0.19607843, 0.19215686, 0.18431373],\n",
              "         ...,\n",
              "         [0.29411765, 0.30588235, 0.33333333],\n",
              "         [0.27058824, 0.28235294, 0.30980392],\n",
              "         [0.25490196, 0.26666667, 0.29411765]],\n",
              "\n",
              "        [[0.25882353, 0.25490196, 0.24705882],\n",
              "         [0.27058824, 0.26666667, 0.25882353],\n",
              "         [0.2745098 , 0.2745098 , 0.26666667],\n",
              "         ...,\n",
              "         [0.29019608, 0.30196078, 0.32941176],\n",
              "         [0.26666667, 0.27843137, 0.30588235],\n",
              "         [0.24313725, 0.25490196, 0.28235294]]],\n",
              "\n",
              "\n",
              "       [[[0.23921569, 0.23921569, 0.24705882],\n",
              "         [0.09411765, 0.09019608, 0.10980392],\n",
              "         [0.09803922, 0.09803922, 0.12941176],\n",
              "         ...,\n",
              "         [0.18431373, 0.2       , 0.20392157],\n",
              "         [0.17647059, 0.19215686, 0.19607843],\n",
              "         [0.17647059, 0.19215686, 0.19607843]],\n",
              "\n",
              "        [[0.04313725, 0.04705882, 0.05490196],\n",
              "         [0.0627451 , 0.07843137, 0.08235294],\n",
              "         [0.07058824, 0.08235294, 0.10980392],\n",
              "         ...,\n",
              "         [0.25882353, 0.2745098 , 0.27843137],\n",
              "         [0.23921569, 0.25490196, 0.26666667],\n",
              "         [0.23137255, 0.24705882, 0.25098039]],\n",
              "\n",
              "        [[0.01176471, 0.04705882, 0.03529412],\n",
              "         [0.06666667, 0.10196078, 0.09019608],\n",
              "         [0.13333333, 0.16470588, 0.17647059],\n",
              "         ...,\n",
              "         [0.32941176, 0.34901961, 0.36078431],\n",
              "         [0.29019608, 0.30980392, 0.3254902 ],\n",
              "         [0.2745098 , 0.29411765, 0.30588235]],\n",
              "\n",
              "        ...,\n",
              "\n",
              "        [[0.57647059, 0.56862745, 0.62352941],\n",
              "         [0.53333333, 0.52156863, 0.58823529],\n",
              "         [0.51764706, 0.50588235, 0.57254902],\n",
              "         ...,\n",
              "         [0.48627451, 0.43137255, 0.41960784],\n",
              "         [0.45098039, 0.39607843, 0.38431373],\n",
              "         [0.50980392, 0.45490196, 0.44313725]],\n",
              "\n",
              "        [[0.54509804, 0.53333333, 0.6       ],\n",
              "         [0.50588235, 0.49411765, 0.56078431],\n",
              "         [0.50196078, 0.49019608, 0.56470588],\n",
              "         ...,\n",
              "         [0.45882353, 0.40392157, 0.4       ],\n",
              "         [0.36862745, 0.31372549, 0.30980392],\n",
              "         [0.43529412, 0.39215686, 0.38431373]],\n",
              "\n",
              "        [[0.52941176, 0.51764706, 0.58431373],\n",
              "         [0.47843137, 0.46666667, 0.53333333],\n",
              "         [0.56078431, 0.54901961, 0.63137255],\n",
              "         ...,\n",
              "         [0.58431373, 0.52941176, 0.52941176],\n",
              "         [0.48235294, 0.43529412, 0.43529412],\n",
              "         [0.52941176, 0.48235294, 0.48235294]]],\n",
              "\n",
              "\n",
              "       [[[0.25098039, 0.12156863, 0.04705882],\n",
              "         [0.4627451 , 0.24705882, 0.16470588],\n",
              "         [0.76470588, 0.36470588, 0.27843137],\n",
              "         ...,\n",
              "         [0.3372549 , 0.17647059, 0.09803922],\n",
              "         [0.32941176, 0.18039216, 0.09803922],\n",
              "         [0.33333333, 0.18431373, 0.10196078]],\n",
              "\n",
              "        [[0.21568627, 0.11372549, 0.04705882],\n",
              "         [0.34509804, 0.15686275, 0.07843137],\n",
              "         [0.69803922, 0.31372549, 0.21568627],\n",
              "         ...,\n",
              "         [0.35686275, 0.19215686, 0.09803922],\n",
              "         [0.34117647, 0.18431373, 0.08627451],\n",
              "         [0.33333333, 0.17647059, 0.07843137]],\n",
              "\n",
              "        [[0.16862745, 0.12156863, 0.05882353],\n",
              "         [0.29803922, 0.15294118, 0.07843137],\n",
              "         [0.6       , 0.24705882, 0.14117647],\n",
              "         ...,\n",
              "         [0.37647059, 0.2       , 0.08627451],\n",
              "         [0.35294118, 0.17647059, 0.0627451 ],\n",
              "         [0.3372549 , 0.16078431, 0.04705882]],\n",
              "\n",
              "        ...,\n",
              "\n",
              "        [[0.51764706, 0.43529412, 0.32156863],\n",
              "         [0.50196078, 0.41960784, 0.30588235],\n",
              "         [0.56078431, 0.48627451, 0.36862745],\n",
              "         ...,\n",
              "         [0.35686275, 0.30588235, 0.23921569],\n",
              "         [0.29019608, 0.23529412, 0.18431373],\n",
              "         [0.25098039, 0.19607843, 0.14509804]],\n",
              "\n",
              "        [[0.47058824, 0.38823529, 0.2745098 ],\n",
              "         [0.50588235, 0.42352941, 0.30980392],\n",
              "         [0.53333333, 0.45882353, 0.34117647],\n",
              "         ...,\n",
              "         [0.44313725, 0.39215686, 0.3254902 ],\n",
              "         [0.29803922, 0.24313725, 0.19215686],\n",
              "         [0.25882353, 0.21176471, 0.15686275]],\n",
              "\n",
              "        [[0.49019608, 0.40784314, 0.29411765],\n",
              "         [0.5254902 , 0.44313725, 0.32941176],\n",
              "         [0.47843137, 0.40392157, 0.28627451],\n",
              "         ...,\n",
              "         [0.43529412, 0.38431373, 0.31764706],\n",
              "         [0.2745098 , 0.22745098, 0.17254902],\n",
              "         [0.23921569, 0.19215686, 0.1372549 ]]]])"
            ]
          },
          "execution_count": 5,
          "metadata": {},
          "output_type": "execute_result"
        }
      ],
      "source": [
        "x_train[1:]"
      ]
    },
    {
      "cell_type": "code",
      "execution_count": null,
      "id": "ccf91744",
      "metadata": {
        "id": "ccf91744",
        "outputId": "ba0ddd0b-dbbe-4295-e6ba-5918bde917fa"
      },
      "outputs": [
        {
          "data": {
            "image/png": "[encoded data removed]",
            "text/plain": [
              "<Figure size 640x480 with 1 Axes>"
            ]
          },
          "metadata": {},
          "output_type": "display_data"
        }
      ],
      "source": [
        "idx=random.randint(0,len(x_train))    # code for displaying some random images..\n",
        "plt.imshow(x_train[idx,:])\n",
        "plt.show()\n",
        "\n",
        "# plt.imshow() is a function from the Matplotlib library used to display images."
      ]
    },
    {
      "cell_type": "code",
      "execution_count": null,
      "id": "8b75921d",
      "metadata": {
        "id": "8b75921d",
        "outputId": "aecfede6-3287-4471-c4e9-c365015acc04"
      },
      "outputs": [
        {
          "name": "stderr",
          "output_type": "stream",
          "text": [
            "C:\\Users\\Acer\\AppData\\Roaming\\Python\\Python312\\site-packages\\keras\\src\\layers\\convolutional\\base_conv.py:107: UserWarning: Do not pass an `input_shape`/`input_dim` argument to a layer. When using Sequential models, prefer using an `Input(shape)` object as the first layer in the model instead.\n",
            "  super().__init__(activity_regularizer=activity_regularizer, **kwargs)\n"
          ]
        }
      ],
      "source": [
        "# the main CNN and the nueral layer\n",
        "model=Sequential([\n",
        "    Conv2D(32,(3,3),activation='relu',input_shape=(100,100,3)),\n",
        "    MaxPooling2D((2,2)),\n",
        "\n",
        "    Conv2D(32,(3,3),activation='relu'),\n",
        "    Flatten(),\n",
        "    Dense(64,activation='relu'),\n",
        "    Dense(1,activation='sigmoid')\n",
        "\n",
        "\n",
        "])"
      ]
    },
    {
      "cell_type": "code",
      "execution_count": null,
      "id": "8d29ac31",
      "metadata": {
        "id": "8d29ac31"
      },
      "outputs": [],
      "source": [
        "# now the loss funtion and the backpropagation step\n",
        "model.compile(loss='binary_crossentropy',optimizer='adam',metrics=['accuracy'])\n",
        "\n"
      ]
    },
    {
      "cell_type": "code",
      "execution_count": null,
      "id": "aba5380a",
      "metadata": {
        "id": "aba5380a",
        "outputId": "ee3798c2-c30b-411c-a11d-ba09e3d18cd4"
      },
      "outputs": [
        {
          "name": "stdout",
          "output_type": "stream",
          "text": [
            "Epoch 1/5\n",
            "\u001b[1m32/32\u001b[0m \u001b[32m━━━━━━━━━━━━━━━━━━━━\u001b[0m\u001b[37m\u001b[0m \u001b[1m11s\u001b[0m 268ms/step - accuracy: 0.4984 - loss: 1.1861\n",
            "Epoch 2/5\n",
            "\u001b[1m32/32\u001b[0m \u001b[32m━━━━━━━━━━━━━━━━━━━━\u001b[0m\u001b[37m\u001b[0m \u001b[1m10s\u001b[0m 293ms/step - accuracy: 0.6172 - loss: 0.6638\n",
            "Epoch 3/5\n",
            "\u001b[1m32/32\u001b[0m \u001b[32m━━━━━━━━━━━━━━━━━━━━\u001b[0m\u001b[37m\u001b[0m \u001b[1m10s\u001b[0m 311ms/step - accuracy: 0.7142 - loss: 0.5822\n",
            "Epoch 4/5\n",
            "\u001b[1m32/32\u001b[0m \u001b[32m━━━━━━━━━━━━━━━━━━━━\u001b[0m\u001b[37m\u001b[0m \u001b[1m10s\u001b[0m 308ms/step - accuracy: 0.8185 - loss: 0.4887\n",
            "Epoch 5/5\n",
            "\u001b[1m32/32\u001b[0m \u001b[32m━━━━━━━━━━━━━━━━━━━━\u001b[0m\u001b[37m\u001b[0m \u001b[1m8s\u001b[0m 247ms/step - accuracy: 0.8670 - loss: 0.3386\n"
          ]
        },
        {
          "data": {
            "text/plain": [
              "<keras.src.callbacks.history.History at 0x27c0003af90>"
            ]
          },
          "execution_count": 9,
          "metadata": {},
          "output_type": "execute_result"
        }
      ],
      "source": [
        "model.fit(x_train,y_train,epochs=5,batch_size=64)\n",
        "# if we run this more than one time it will resume from there and  will increase the accuracy"
      ]
    },
    {
      "cell_type": "code",
      "execution_count": null,
      "id": "9e2101e4",
      "metadata": {
        "id": "9e2101e4",
        "outputId": "62630957-f9e5-4ec8-ad24-89dbea640022"
      },
      "outputs": [
        {
          "name": "stdout",
          "output_type": "stream",
          "text": [
            "\u001b[1m13/13\u001b[0m \u001b[32m━━━━━━━━━━━━━━━━━━━━\u001b[0m\u001b[37m\u001b[0m \u001b[1m1s\u001b[0m 33ms/step - accuracy: 0.6053 - loss: 0.7349\n"
          ]
        },
        {
          "data": {
            "text/plain": [
              "[0.6433709859848022, 0.6800000071525574]"
            ]
          },
          "execution_count": 10,
          "metadata": {},
          "output_type": "execute_result"
        }
      ],
      "source": [
        "model.evaluate(x_test,y_test)"
      ]
    },
    {
      "cell_type": "code",
      "execution_count": null,
      "id": "c5abf87f",
      "metadata": {
        "id": "c5abf87f",
        "outputId": "b1c48852-db8f-427f-f8d0-e0e87c304096"
      },
      "outputs": [
        {
          "data": {
            "image/png": "[encoded data removed]",
            "text/plain": [
              "<Figure size 640x480 with 1 Axes>"
            ]
          },
          "metadata": {},
          "output_type": "display_data"
        },
        {
          "name": "stdout",
          "output_type": "stream",
          "text": [
            "\u001b[1m1/1\u001b[0m \u001b[32m━━━━━━━━━━━━━━━━━━━━\u001b[0m\u001b[37m\u001b[0m \u001b[1m0s\u001b[0m 117ms/step\n",
            "our model says that it is a  cat\n"
          ]
        }
      ],
      "source": [
        "# making the final predictions\n",
        "\n",
        "index=random.randint(0,len(y_test))\n",
        "plt.imshow(x_test[index,:])\n",
        "plt.show()\n",
        "\n",
        "y_pred=model.predict(x_test[index,:].reshape(1,100,100,3))  # here y_pred is giving the probablity if this is\n",
        "# close to zero it is dog otherwise cat because class  zero is a dog and 1 is a cat\n",
        "\n",
        "#print(y_pred)\n",
        "y_pred= y_pred>0.5\n",
        "if(y_pred==0):\n",
        "    pred='dog'\n",
        "else:\n",
        "    pred='cat'\n",
        "print(\"our model says that it is a \",pred)\n"
      ]
    },
    {
      "cell_type": "code",
      "execution_count": null,
      "id": "7dc9507f",
      "metadata": {
        "id": "7dc9507f"
      },
      "outputs": [],
      "source": []
    }
  ],
  "metadata": {
    "kernelspec": {
      "display_name": "Python 3",
      "language": "python",
      "name": "python3"
    },
    "language_info": {
      "codemirror_mode": {
        "name": "ipython",
        "version": 3
      },
      "file_extension": ".py",
      "mimetype": "text/x-python",
      "name": "python",
      "nbconvert_exporter": "python",
      "pygments_lexer": "ipython3",
      "version": "3.12.3"
    },
    "colab": {
      "provenance": [],
      "include_colab_link": true
    }
  },
  "nbformat": 4,
  "nbformat_minor": 5
}